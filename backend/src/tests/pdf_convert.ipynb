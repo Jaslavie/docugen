{
 "cells": [
  {
   "cell_type": "code",
   "execution_count": 1,
   "metadata": {},
   "outputs": [],
   "source": [
    "import asyncio\n",
    "from pdfminer.high_level import extract_text_to_fp"
   ]
  },
  {
   "cell_type": "code",
   "execution_count": 2,
   "metadata": {},
   "outputs": [],
   "source": [
    "# extract the binary representation of the pdf file\n",
    "async def pdf_to_text(pdf_buffer: bytes) -> str:\n",
    "    text = ''\n",
    "    with open('temp.pdf', 'wb') as temp_pdf:\n",
    "        temp_pdf.write(pdf_buffer)\n",
    "    text = extract_text_to_fp('temp.pdf')\n",
    "    return text"
   ]
  }
 ],
 "metadata": {
  "kernelspec": {
   "display_name": "venv",
   "language": "python",
   "name": "python3"
  },
  "language_info": {
   "codemirror_mode": {
    "name": "ipython",
    "version": 3
   },
   "file_extension": ".py",
   "mimetype": "text/x-python",
   "name": "python",
   "nbconvert_exporter": "python",
   "pygments_lexer": "ipython3",
   "version": "3.12.1"
  }
 },
 "nbformat": 4,
 "nbformat_minor": 2
}
